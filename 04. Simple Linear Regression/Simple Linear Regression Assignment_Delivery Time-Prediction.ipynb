{
 "cells": [
  {
   "cell_type": "markdown",
   "id": "40154fa5",
   "metadata": {},
   "source": [
    "## Linear Regression Project on Predicting Delivery Time"
   ]
  },
  {
   "cell_type": "code",
   "execution_count": 224,
   "id": "8d017efb",
   "metadata": {},
   "outputs": [],
   "source": [
    "#Importing Libraries\n",
    "\n",
    "import pandas as pd\n",
    "import numpy as np"
   ]
  },
  {
   "cell_type": "markdown",
   "id": "ae11f507",
   "metadata": {},
   "source": [
    "### Reading the data"
   ]
  },
  {
   "cell_type": "code",
   "execution_count": 225,
   "id": "26529268",
   "metadata": {},
   "outputs": [],
   "source": [
    "df=pd.read_csv(r\"C:\\Users\\aravi\\OneDrive\\Desktop\\ExcelR Assignments\\04. Simple Linear Regression\\delivery_time.csv\")"
   ]
  },
  {
   "cell_type": "code",
   "execution_count": 226,
   "id": "d102a2d9",
   "metadata": {},
   "outputs": [
    {
     "name": "stdout",
     "output_type": "stream",
     "text": [
      "<class 'pandas.core.frame.DataFrame'>\n",
      "RangeIndex: 21 entries, 0 to 20\n",
      "Data columns (total 2 columns):\n",
      " #   Column        Non-Null Count  Dtype  \n",
      "---  ------        --------------  -----  \n",
      " 0   DeliveryTime  21 non-null     float64\n",
      " 1   SortingTime   21 non-null     int64  \n",
      "dtypes: float64(1), int64(1)\n",
      "memory usage: 464.0 bytes\n"
     ]
    }
   ],
   "source": [
    "df.info()"
   ]
  },
  {
   "cell_type": "markdown",
   "id": "2e4dbeb4",
   "metadata": {},
   "source": [
    "### Checkout the data & missing Values"
   ]
  },
  {
   "cell_type": "code",
   "execution_count": 227,
   "id": "5fa182fa",
   "metadata": {},
   "outputs": [
    {
     "data": {
      "text/plain": [
       "DeliveryTime    0\n",
       "SortingTime     0\n",
       "dtype: int64"
      ]
     },
     "execution_count": 227,
     "metadata": {},
     "output_type": "execute_result"
    }
   ],
   "source": [
    "#Check for missing values\n",
    "df.isnull().sum()"
   ]
  },
  {
   "cell_type": "code",
   "execution_count": 228,
   "id": "940daf88",
   "metadata": {},
   "outputs": [
    {
     "data": {
      "text/html": [
       "<div>\n",
       "<style scoped>\n",
       "    .dataframe tbody tr th:only-of-type {\n",
       "        vertical-align: middle;\n",
       "    }\n",
       "\n",
       "    .dataframe tbody tr th {\n",
       "        vertical-align: top;\n",
       "    }\n",
       "\n",
       "    .dataframe thead th {\n",
       "        text-align: right;\n",
       "    }\n",
       "</style>\n",
       "<table border=\"1\" class=\"dataframe\">\n",
       "  <thead>\n",
       "    <tr style=\"text-align: right;\">\n",
       "      <th></th>\n",
       "      <th>DeliveryTime</th>\n",
       "      <th>SortingTime</th>\n",
       "    </tr>\n",
       "  </thead>\n",
       "  <tbody>\n",
       "    <tr>\n",
       "      <th>0</th>\n",
       "      <td>21.00</td>\n",
       "      <td>10</td>\n",
       "    </tr>\n",
       "    <tr>\n",
       "      <th>1</th>\n",
       "      <td>13.50</td>\n",
       "      <td>4</td>\n",
       "    </tr>\n",
       "    <tr>\n",
       "      <th>2</th>\n",
       "      <td>19.75</td>\n",
       "      <td>6</td>\n",
       "    </tr>\n",
       "    <tr>\n",
       "      <th>3</th>\n",
       "      <td>24.00</td>\n",
       "      <td>9</td>\n",
       "    </tr>\n",
       "    <tr>\n",
       "      <th>4</th>\n",
       "      <td>29.00</td>\n",
       "      <td>10</td>\n",
       "    </tr>\n",
       "  </tbody>\n",
       "</table>\n",
       "</div>"
      ],
      "text/plain": [
       "   DeliveryTime  SortingTime\n",
       "0         21.00           10\n",
       "1         13.50            4\n",
       "2         19.75            6\n",
       "3         24.00            9\n",
       "4         29.00           10"
      ]
     },
     "execution_count": 228,
     "metadata": {},
     "output_type": "execute_result"
    }
   ],
   "source": [
    "df.head()"
   ]
  },
  {
   "cell_type": "code",
   "execution_count": 229,
   "id": "5dd4ba43",
   "metadata": {},
   "outputs": [
    {
     "data": {
      "text/html": [
       "<div>\n",
       "<style scoped>\n",
       "    .dataframe tbody tr th:only-of-type {\n",
       "        vertical-align: middle;\n",
       "    }\n",
       "\n",
       "    .dataframe tbody tr th {\n",
       "        vertical-align: top;\n",
       "    }\n",
       "\n",
       "    .dataframe thead th {\n",
       "        text-align: right;\n",
       "    }\n",
       "</style>\n",
       "<table border=\"1\" class=\"dataframe\">\n",
       "  <thead>\n",
       "    <tr style=\"text-align: right;\">\n",
       "      <th></th>\n",
       "      <th>DeliveryTime</th>\n",
       "      <th>SortingTime</th>\n",
       "    </tr>\n",
       "  </thead>\n",
       "  <tbody>\n",
       "    <tr>\n",
       "      <th>count</th>\n",
       "      <td>21.000000</td>\n",
       "      <td>21.000000</td>\n",
       "    </tr>\n",
       "    <tr>\n",
       "      <th>mean</th>\n",
       "      <td>16.790952</td>\n",
       "      <td>6.190476</td>\n",
       "    </tr>\n",
       "    <tr>\n",
       "      <th>std</th>\n",
       "      <td>5.074901</td>\n",
       "      <td>2.542028</td>\n",
       "    </tr>\n",
       "    <tr>\n",
       "      <th>min</th>\n",
       "      <td>8.000000</td>\n",
       "      <td>2.000000</td>\n",
       "    </tr>\n",
       "    <tr>\n",
       "      <th>25%</th>\n",
       "      <td>13.500000</td>\n",
       "      <td>4.000000</td>\n",
       "    </tr>\n",
       "    <tr>\n",
       "      <th>50%</th>\n",
       "      <td>17.830000</td>\n",
       "      <td>6.000000</td>\n",
       "    </tr>\n",
       "    <tr>\n",
       "      <th>75%</th>\n",
       "      <td>19.750000</td>\n",
       "      <td>8.000000</td>\n",
       "    </tr>\n",
       "    <tr>\n",
       "      <th>max</th>\n",
       "      <td>29.000000</td>\n",
       "      <td>10.000000</td>\n",
       "    </tr>\n",
       "  </tbody>\n",
       "</table>\n",
       "</div>"
      ],
      "text/plain": [
       "       DeliveryTime  SortingTime\n",
       "count     21.000000    21.000000\n",
       "mean      16.790952     6.190476\n",
       "std        5.074901     2.542028\n",
       "min        8.000000     2.000000\n",
       "25%       13.500000     4.000000\n",
       "50%       17.830000     6.000000\n",
       "75%       19.750000     8.000000\n",
       "max       29.000000    10.000000"
      ]
     },
     "execution_count": 229,
     "metadata": {},
     "output_type": "execute_result"
    }
   ],
   "source": [
    "df.describe()"
   ]
  },
  {
   "cell_type": "code",
   "execution_count": 230,
   "id": "87f14914",
   "metadata": {},
   "outputs": [
    {
     "data": {
      "text/html": [
       "<div>\n",
       "<style scoped>\n",
       "    .dataframe tbody tr th:only-of-type {\n",
       "        vertical-align: middle;\n",
       "    }\n",
       "\n",
       "    .dataframe tbody tr th {\n",
       "        vertical-align: top;\n",
       "    }\n",
       "\n",
       "    .dataframe thead th {\n",
       "        text-align: right;\n",
       "    }\n",
       "</style>\n",
       "<table border=\"1\" class=\"dataframe\">\n",
       "  <thead>\n",
       "    <tr style=\"text-align: right;\">\n",
       "      <th></th>\n",
       "      <th>DeliveryTime</th>\n",
       "      <th>SortingTime</th>\n",
       "    </tr>\n",
       "  </thead>\n",
       "  <tbody>\n",
       "    <tr>\n",
       "      <th>DeliveryTime</th>\n",
       "      <td>1.000000</td>\n",
       "      <td>0.825997</td>\n",
       "    </tr>\n",
       "    <tr>\n",
       "      <th>SortingTime</th>\n",
       "      <td>0.825997</td>\n",
       "      <td>1.000000</td>\n",
       "    </tr>\n",
       "  </tbody>\n",
       "</table>\n",
       "</div>"
      ],
      "text/plain": [
       "              DeliveryTime  SortingTime\n",
       "DeliveryTime      1.000000     0.825997\n",
       "SortingTime       0.825997     1.000000"
      ]
     },
     "execution_count": 230,
     "metadata": {},
     "output_type": "execute_result"
    }
   ],
   "source": [
    "#Correlation\n",
    "df.corr()"
   ]
  },
  {
   "cell_type": "markdown",
   "id": "21f1f593",
   "metadata": {},
   "source": [
    "## Exploratory Data Analysis"
   ]
  },
  {
   "cell_type": "code",
   "execution_count": 231,
   "id": "0d492160",
   "metadata": {},
   "outputs": [],
   "source": [
    "import matplotlib.pyplot as plt\n",
    "import seaborn as sns"
   ]
  },
  {
   "cell_type": "code",
   "execution_count": 232,
   "id": "84c0b971",
   "metadata": {},
   "outputs": [
    {
     "name": "stderr",
     "output_type": "stream",
     "text": [
      "C:\\Users\\aravi\\Anaconda3\\lib\\site-packages\\seaborn\\distributions.py:2619: FutureWarning: `distplot` is a deprecated function and will be removed in a future version. Please adapt your code to use either `displot` (a figure-level function with similar flexibility) or `histplot` (an axes-level function for histograms).\n",
      "  warnings.warn(msg, FutureWarning)\n"
     ]
    },
    {
     "data": {
      "text/plain": [
       "<AxesSubplot:xlabel='SortingTime', ylabel='Density'>"
      ]
     },
     "execution_count": 232,
     "metadata": {},
     "output_type": "execute_result"
    },
    {
     "data": {
      "image/png": "[encoded data removed]",
      "text/plain": [
       "<Figure size 432x288 with 1 Axes>"
      ]
     },
     "metadata": {
      "needs_background": "light"
     },
     "output_type": "display_data"
    }
   ],
   "source": [
    "sns.distplot(df['SortingTime'])"
   ]
  },
  {
   "cell_type": "code",
   "execution_count": 233,
   "id": "437fa4c3",
   "metadata": {},
   "outputs": [
    {
     "name": "stderr",
     "output_type": "stream",
     "text": [
      "C:\\Users\\aravi\\Anaconda3\\lib\\site-packages\\seaborn\\distributions.py:2619: FutureWarning: `distplot` is a deprecated function and will be removed in a future version. Please adapt your code to use either `displot` (a figure-level function with similar flexibility) or `histplot` (an axes-level function for histograms).\n",
      "  warnings.warn(msg, FutureWarning)\n"
     ]
    },
    {
     "data": {
      "text/plain": [
       "<AxesSubplot:xlabel='DeliveryTime', ylabel='Density'>"
      ]
     },
     "execution_count": 233,
     "metadata": {},
     "output_type": "execute_result"
    },
    {
     "data": {
      "image/png": "[encoded data removed]",
      "text/plain": [
       "<Figure size 432x288 with 1 Axes>"
      ]
     },
     "metadata": {
      "needs_background": "light"
     },
     "output_type": "display_data"
    }
   ],
   "source": [
    "sns.distplot(df['DeliveryTime'])"
   ]
  },
  {
   "cell_type": "markdown",
   "id": "73e07eb9",
   "metadata": {},
   "source": [
    "### Checking Linearity with Scatter Plot"
   ]
  },
  {
   "cell_type": "code",
   "execution_count": 234,
   "id": "726cc5f5",
   "metadata": {},
   "outputs": [
    {
     "data": {
      "image/png": "[encoded data removed]",
      "text/plain": [
       "<Figure size 432x288 with 1 Axes>"
      ]
     },
     "metadata": {
      "needs_background": "light"
     },
     "output_type": "display_data"
    }
   ],
   "source": [
    "#Check Linearity\n",
    "\n",
    "plt.scatter(df['SortingTime'],df['DeliveryTime'])\n",
    "plt.xlabel(\"SortingTIme\")\n",
    "plt.ylabel(\"DeliveryTime\")\n",
    "plt.title(\"Sorting vs Delivery Time \")\n",
    "plt.show()"
   ]
  },
  {
   "cell_type": "code",
   "execution_count": 235,
   "id": "b6e7b472",
   "metadata": {},
   "outputs": [
    {
     "data": {
      "text/plain": [
       "<AxesSubplot:>"
      ]
     },
     "execution_count": 235,
     "metadata": {},
     "output_type": "execute_result"
    },
    {
     "data": {
      "image/png": "[encoded data removed]",
      "text/plain": [
       "<Figure size 432x288 with 1 Axes>"
      ]
     },
     "metadata": {
      "needs_background": "light"
     },
     "output_type": "display_data"
    }
   ],
   "source": [
    "#Check for Outliers\n",
    "df.boxplot()"
   ]
  },
  {
   "cell_type": "markdown",
   "id": "a8735dbf",
   "metadata": {},
   "source": [
    "### Checking the Normality with Q-Q Plot Representation"
   ]
  },
  {
   "cell_type": "code",
   "execution_count": 236,
   "id": "fd040c62",
   "metadata": {},
   "outputs": [
    {
     "data": {
      "image/png": "[encoded data removed]",
      "text/plain": [
       "<Figure size 432x288 with 1 Axes>"
      ]
     },
     "execution_count": 236,
     "metadata": {},
     "output_type": "execute_result"
    },
    {
     "data": {
      "image/png": "[encoded data removed]",
      "text/plain": [
       "<Figure size 432x288 with 1 Axes>"
      ]
     },
     "metadata": {
      "needs_background": "light"
     },
     "output_type": "display_data"
    }
   ],
   "source": [
    "import statsmodels.api as sm\n",
    "sm.qqplot(df['SortingTime'], line='r')"
   ]
  },
  {
   "cell_type": "markdown",
   "id": "b3eaa7cd",
   "metadata": {},
   "source": [
    "\n",
    "**From the above Q-Q plot we can observe that the line passing through few of the data points, most of the data points are across the line.**\n",
    "\n",
    "**Lets apply different data transformation techniques to checkout the normality**\n",
    "\n",
    "**Lets start with Logarithmic Trasnformation**"
   ]
  },
  {
   "cell_type": "markdown",
   "id": "812c2391",
   "metadata": {},
   "source": [
    "## Checking Normality with Log Transformation Q-Q Plot"
   ]
  },
  {
   "cell_type": "code",
   "execution_count": 300,
   "id": "5c3f925a",
   "metadata": {},
   "outputs": [
    {
     "data": {
      "image/png": "[encoded data removed]",
      "text/plain": [
       "<Figure size 432x288 with 1 Axes>"
      ]
     },
     "execution_count": 300,
     "metadata": {},
     "output_type": "execute_result"
    },
    {
     "data": {
      "image/png": "[encoded data removed]",
      "text/plain": [
       "<Figure size 432x288 with 1 Axes>"
      ]
     },
     "metadata": {
      "needs_background": "light"
     },
     "output_type": "display_data"
    }
   ],
   "source": [
    "#Log Transformation\n",
    "df['SortingTime_Log']=np.log(df['SortingTime'])\n",
    "sm.qqplot(df['SortingTime_Log'], line='r')"
   ]
  },
  {
   "cell_type": "markdown",
   "id": "49f87890",
   "metadata": {},
   "source": [
    "## Checking Normality with Square Root Transformation Q-Q plot"
   ]
  },
  {
   "cell_type": "code",
   "execution_count": 304,
   "id": "def919e3",
   "metadata": {},
   "outputs": [
    {
     "data": {
      "text/html": [
       "<div>\n",
       "<style scoped>\n",
       "    .dataframe tbody tr th:only-of-type {\n",
       "        vertical-align: middle;\n",
       "    }\n",
       "\n",
       "    .dataframe tbody tr th {\n",
       "        vertical-align: top;\n",
       "    }\n",
       "\n",
       "    .dataframe thead th {\n",
       "        text-align: right;\n",
       "    }\n",
       "</style>\n",
       "<table border=\"1\" class=\"dataframe\">\n",
       "  <thead>\n",
       "    <tr style=\"text-align: right;\">\n",
       "      <th></th>\n",
       "      <th>DeliveryTime</th>\n",
       "      <th>SortingTime</th>\n",
       "      <th>SortingTime_Log</th>\n",
       "      <th>SortingTime_sqrt</th>\n",
       "    </tr>\n",
       "  </thead>\n",
       "  <tbody>\n",
       "    <tr>\n",
       "      <th>0</th>\n",
       "      <td>21.00</td>\n",
       "      <td>10</td>\n",
       "      <td>2.302585</td>\n",
       "      <td>3.162278</td>\n",
       "    </tr>\n",
       "    <tr>\n",
       "      <th>1</th>\n",
       "      <td>13.50</td>\n",
       "      <td>4</td>\n",
       "      <td>1.386294</td>\n",
       "      <td>2.000000</td>\n",
       "    </tr>\n",
       "    <tr>\n",
       "      <th>2</th>\n",
       "      <td>19.75</td>\n",
       "      <td>6</td>\n",
       "      <td>1.791759</td>\n",
       "      <td>2.449490</td>\n",
       "    </tr>\n",
       "    <tr>\n",
       "      <th>3</th>\n",
       "      <td>24.00</td>\n",
       "      <td>9</td>\n",
       "      <td>2.197225</td>\n",
       "      <td>3.000000</td>\n",
       "    </tr>\n",
       "    <tr>\n",
       "      <th>4</th>\n",
       "      <td>29.00</td>\n",
       "      <td>10</td>\n",
       "      <td>2.302585</td>\n",
       "      <td>3.162278</td>\n",
       "    </tr>\n",
       "    <tr>\n",
       "      <th>5</th>\n",
       "      <td>15.35</td>\n",
       "      <td>6</td>\n",
       "      <td>1.791759</td>\n",
       "      <td>2.449490</td>\n",
       "    </tr>\n",
       "    <tr>\n",
       "      <th>6</th>\n",
       "      <td>19.00</td>\n",
       "      <td>7</td>\n",
       "      <td>1.945910</td>\n",
       "      <td>2.645751</td>\n",
       "    </tr>\n",
       "    <tr>\n",
       "      <th>7</th>\n",
       "      <td>9.50</td>\n",
       "      <td>3</td>\n",
       "      <td>1.098612</td>\n",
       "      <td>1.732051</td>\n",
       "    </tr>\n",
       "    <tr>\n",
       "      <th>8</th>\n",
       "      <td>17.90</td>\n",
       "      <td>10</td>\n",
       "      <td>2.302585</td>\n",
       "      <td>3.162278</td>\n",
       "    </tr>\n",
       "    <tr>\n",
       "      <th>9</th>\n",
       "      <td>18.75</td>\n",
       "      <td>9</td>\n",
       "      <td>2.197225</td>\n",
       "      <td>3.000000</td>\n",
       "    </tr>\n",
       "    <tr>\n",
       "      <th>10</th>\n",
       "      <td>19.83</td>\n",
       "      <td>8</td>\n",
       "      <td>2.079442</td>\n",
       "      <td>2.828427</td>\n",
       "    </tr>\n",
       "    <tr>\n",
       "      <th>11</th>\n",
       "      <td>10.75</td>\n",
       "      <td>4</td>\n",
       "      <td>1.386294</td>\n",
       "      <td>2.000000</td>\n",
       "    </tr>\n",
       "    <tr>\n",
       "      <th>12</th>\n",
       "      <td>16.68</td>\n",
       "      <td>7</td>\n",
       "      <td>1.945910</td>\n",
       "      <td>2.645751</td>\n",
       "    </tr>\n",
       "    <tr>\n",
       "      <th>13</th>\n",
       "      <td>11.50</td>\n",
       "      <td>3</td>\n",
       "      <td>1.098612</td>\n",
       "      <td>1.732051</td>\n",
       "    </tr>\n",
       "    <tr>\n",
       "      <th>14</th>\n",
       "      <td>12.03</td>\n",
       "      <td>3</td>\n",
       "      <td>1.098612</td>\n",
       "      <td>1.732051</td>\n",
       "    </tr>\n",
       "    <tr>\n",
       "      <th>15</th>\n",
       "      <td>14.88</td>\n",
       "      <td>4</td>\n",
       "      <td>1.386294</td>\n",
       "      <td>2.000000</td>\n",
       "    </tr>\n",
       "    <tr>\n",
       "      <th>16</th>\n",
       "      <td>13.75</td>\n",
       "      <td>6</td>\n",
       "      <td>1.791759</td>\n",
       "      <td>2.449490</td>\n",
       "    </tr>\n",
       "    <tr>\n",
       "      <th>17</th>\n",
       "      <td>18.11</td>\n",
       "      <td>7</td>\n",
       "      <td>1.945910</td>\n",
       "      <td>2.645751</td>\n",
       "    </tr>\n",
       "    <tr>\n",
       "      <th>18</th>\n",
       "      <td>8.00</td>\n",
       "      <td>2</td>\n",
       "      <td>0.693147</td>\n",
       "      <td>1.414214</td>\n",
       "    </tr>\n",
       "    <tr>\n",
       "      <th>19</th>\n",
       "      <td>17.83</td>\n",
       "      <td>7</td>\n",
       "      <td>1.945910</td>\n",
       "      <td>2.645751</td>\n",
       "    </tr>\n",
       "    <tr>\n",
       "      <th>20</th>\n",
       "      <td>21.50</td>\n",
       "      <td>5</td>\n",
       "      <td>1.609438</td>\n",
       "      <td>2.236068</td>\n",
       "    </tr>\n",
       "  </tbody>\n",
       "</table>\n",
       "</div>"
      ],
      "text/plain": [
       "    DeliveryTime  SortingTime  SortingTime_Log  SortingTime_sqrt\n",
       "0          21.00           10         2.302585          3.162278\n",
       "1          13.50            4         1.386294          2.000000\n",
       "2          19.75            6         1.791759          2.449490\n",
       "3          24.00            9         2.197225          3.000000\n",
       "4          29.00           10         2.302585          3.162278\n",
       "5          15.35            6         1.791759          2.449490\n",
       "6          19.00            7         1.945910          2.645751\n",
       "7           9.50            3         1.098612          1.732051\n",
       "8          17.90           10         2.302585          3.162278\n",
       "9          18.75            9         2.197225          3.000000\n",
       "10         19.83            8         2.079442          2.828427\n",
       "11         10.75            4         1.386294          2.000000\n",
       "12         16.68            7         1.945910          2.645751\n",
       "13         11.50            3         1.098612          1.732051\n",
       "14         12.03            3         1.098612          1.732051\n",
       "15         14.88            4         1.386294          2.000000\n",
       "16         13.75            6         1.791759          2.449490\n",
       "17         18.11            7         1.945910          2.645751\n",
       "18          8.00            2         0.693147          1.414214\n",
       "19         17.83            7         1.945910          2.645751\n",
       "20         21.50            5         1.609438          2.236068"
      ]
     },
     "execution_count": 304,
     "metadata": {},
     "output_type": "execute_result"
    }
   ],
   "source": [
    "#Square Root Transformaation\n",
    "df['SortingTime_sqrt']=np.sqrt(df.SortingTime)\n",
    "df.drop(columns=['SortingTime_exponential'])"
   ]
  },
  {
   "cell_type": "code",
   "execution_count": 239,
   "id": "852f8edc",
   "metadata": {},
   "outputs": [
    {
     "data": {
      "image/png": "[encoded data removed]",
      "text/plain": [
       "<Figure size 432x288 with 1 Axes>"
      ]
     },
     "execution_count": 239,
     "metadata": {},
     "output_type": "execute_result"
    },
    {
     "data": {
      "image/png": "[encoded data removed]",
      "text/plain": [
       "<Figure size 432x288 with 1 Axes>"
      ]
     },
     "metadata": {
      "needs_background": "light"
     },
     "output_type": "display_data"
    }
   ],
   "source": [
    "#Q-Q plot Representation of Exponential Transformation data\n",
    "sm.qqplot(df['SortingTime_exponential'], line='r')"
   ]
  },
  {
   "cell_type": "markdown",
   "id": "ae3a7d56",
   "metadata": {},
   "source": [
    "## Splitting Dataset to Train the model"
   ]
  },
  {
   "cell_type": "code",
   "execution_count": 278,
   "id": "1386995c",
   "metadata": {},
   "outputs": [
    {
     "name": "stdout",
     "output_type": "stream",
     "text": [
      "X_train data is:  \n",
      "     SortingTime_Log\n",
      "3          2.197225\n",
      "18         0.693147\n",
      "16         1.791759\n",
      "13         1.098612\n",
      "2          1.791759 \n",
      "\n",
      "y_train data is: \n",
      " 3     24.00\n",
      "18     8.00\n",
      "16    13.75\n",
      "13    11.50\n",
      "2     19.75\n",
      "Name: DeliveryTime, dtype: float64\n"
     ]
    }
   ],
   "source": [
    "X=df.iloc[ :, 2:3]\n",
    "y=df.iloc[ :, 0:1]\n",
    "y=df['DeliveryTime']\n",
    "\n",
    "from sklearn.model_selection import train_test_split\n",
    "X_train, X_test, y_train, y_test = train_test_split(X,y,test_size=0.3,  random_state=42)\n",
    "print('X_train data is: ','\\n',X_train.head(),'\\n')\n",
    "print('y_train data is:','\\n',y_train.head())"
   ]
  },
  {
   "cell_type": "markdown",
   "id": "1115be15",
   "metadata": {},
   "source": [
    "## Fitting a linear Regression model without Data Transformation"
   ]
  },
  {
   "cell_type": "code",
   "execution_count": 279,
   "id": "2c04f6c7",
   "metadata": {},
   "outputs": [
    {
     "data": {
      "image/png": "[encoded data removed]",
      "text/plain": [
       "<Figure size 432x288 with 1 Axes>"
      ]
     },
     "metadata": {
      "needs_background": "light"
     },
     "output_type": "display_data"
    }
   ],
   "source": [
    "#Fitting a linear Regression Model\n",
    "\n",
    "from sklearn.linear_model import LinearRegression\n",
    "\n",
    "model=LinearRegression()\n",
    "model.fit(X_train,y_train)\n",
    "\n",
    "sns.regplot(x=\"SortingTime\", y=\"DeliveryTime\", data=df).set(title=\"Delivery Time vs Sorting Time\")\n",
    "plt.show()"
   ]
  },
  {
   "cell_type": "code",
   "execution_count": 280,
   "id": "91eee199",
   "metadata": {},
   "outputs": [
    {
     "data": {
      "text/plain": [
       "array([9.88546614])"
      ]
     },
     "execution_count": 280,
     "metadata": {},
     "output_type": "execute_result"
    }
   ],
   "source": [
    "model.coef_"
   ]
  },
  {
   "cell_type": "code",
   "execution_count": 281,
   "id": "fed957a3",
   "metadata": {},
   "outputs": [
    {
     "data": {
      "text/plain": [
       "0.42028523776763294"
      ]
     },
     "execution_count": 281,
     "metadata": {},
     "output_type": "execute_result"
    }
   ],
   "source": [
    "model.intercept_"
   ]
  },
  {
   "cell_type": "code",
   "execution_count": 282,
   "id": "9ec93530",
   "metadata": {},
   "outputs": [
    {
     "data": {
      "text/plain": [
       "array([23.1824122 , 19.65651412, 14.1244512 , 14.1244512 , 23.1824122 ,\n",
       "       18.1326628 , 14.1244512 ])"
      ]
     },
     "execution_count": 282,
     "metadata": {},
     "output_type": "execute_result"
    }
   ],
   "source": [
    "predictions=model.predict(X_test)\n",
    "predictions"
   ]
  },
  {
   "cell_type": "code",
   "execution_count": 283,
   "id": "8e805987",
   "metadata": {},
   "outputs": [
    {
     "name": "stdout",
     "output_type": "stream",
     "text": [
      "0     2.182412\n",
      "17    1.546514\n",
      "15   -0.755549\n",
      "1     0.624451\n",
      "8     5.282412\n",
      "5     2.782663\n",
      "11    3.374451\n",
      "Name: DeliveryTime, dtype: float64\n"
     ]
    },
    {
     "data": {
      "text/plain": [
       "<AxesSubplot:xlabel='DeliveryTime'>"
      ]
     },
     "execution_count": 283,
     "metadata": {},
     "output_type": "execute_result"
    },
    {
     "data": {
      "image/png": "[encoded data removed]",
      "text/plain": [
       "<Figure size 432x288 with 1 Axes>"
      ]
     },
     "metadata": {
      "needs_background": "light"
     },
     "output_type": "display_data"
    }
   ],
   "source": [
    "#Residual Regression plot\n",
    "Residual=predictions-y_test\n",
    "print(Residual)\n",
    "sns.regplot(x=y_test,y=predictions)"
   ]
  },
  {
   "cell_type": "markdown",
   "id": "869e2404",
   "metadata": {},
   "source": [
    "## Regression Evaluation Metrics\n",
    "\n",
    "**Here are the three evaluation metrics for regression problems**\n",
    "\n",
    "**Mean Absolute Error (MAE)**\n",
    "\n",
    "**Mean Squared Error(MSE)** \n",
    "\n",
    "**Root Mean Squared Error(RMSE)**\n",
    "\n",
    "**RSquare Value(Coefficient of Determination)**"
   ]
  },
  {
   "cell_type": "code",
   "execution_count": 284,
   "id": "31a29f16",
   "metadata": {},
   "outputs": [],
   "source": [
    "from sklearn import metrics"
   ]
  },
  {
   "cell_type": "code",
   "execution_count": 354,
   "id": "c2c7f15d",
   "metadata": {},
   "outputs": [
    {
     "name": "stdout",
     "output_type": "stream",
     "text": [
      "MAE:  2.3640646454249015\n",
      "MSE:  7.878490574948068\n",
      "RMSE: 2.806864901442189\n"
     ]
    }
   ],
   "source": [
    "print(\"MAE: \", metrics.mean_absolute_error(y_test, predictions))\n",
    "print(\"MSE: \", metrics.mean_squared_error(y_test,predictions))\n",
    "print(\"RMSE:\",np.sqrt(metrics.mean_squared_error(y_test,predictions)))"
   ]
  },
  {
   "cell_type": "markdown",
   "id": "01843ae7",
   "metadata": {},
   "source": [
    "## Simple Linear Regression Model Score"
   ]
  },
  {
   "cell_type": "code",
   "execution_count": 286,
   "id": "0f5ec2ba",
   "metadata": {},
   "outputs": [
    {
     "name": "stdout",
     "output_type": "stream",
     "text": [
      "\u001b[1;3m Rsquare value or the Accuracy for the linear regression model is: 73 % \u001b[0m\n"
     ]
    }
   ],
   "source": [
    "Rsqaurevalue=model.score(X_train,y_train)\n",
    "print( '\\033[1;3m','Rsquare value or the Accuracy for the linear regression model is:',int(Rsqaurevalue*100),'%','\\033[0m')"
   ]
  },
  {
   "cell_type": "markdown",
   "id": "de0b563b",
   "metadata": {},
   "source": [
    "# Fitting a linear Regression model with Log Transformation"
   ]
  },
  {
   "cell_type": "code",
   "execution_count": 263,
   "id": "fc32066d",
   "metadata": {},
   "outputs": [],
   "source": [
    "X_log=np.log(df['SortingTime']).values.reshape(-1,1)\n",
    "y_log=np.log(df['DeliveryTime']).values.reshape(-1,1)"
   ]
  },
  {
   "cell_type": "code",
   "execution_count": 264,
   "id": "092ea41d",
   "metadata": {},
   "outputs": [],
   "source": [
    "X_log_train, X_log_test, y_log_train, y_log_test=train_test_split(X_log, y_log, test_size=0.2, random_state=42)"
   ]
  },
  {
   "cell_type": "code",
   "execution_count": 265,
   "id": "7570e744",
   "metadata": {},
   "outputs": [
    {
     "data": {
      "text/plain": [
       "LinearRegression()"
      ]
     },
     "execution_count": 265,
     "metadata": {},
     "output_type": "execute_result"
    }
   ],
   "source": [
    "LogModel=LinearRegression()\n",
    "LogModel.fit(X_log_train, y_log_train)"
   ]
  },
  {
   "cell_type": "code",
   "execution_count": 307,
   "id": "b23e0939",
   "metadata": {},
   "outputs": [
    {
     "data": {
      "text/plain": [
       "array([[3.17069599],\n",
       "       [2.9325148 ],\n",
       "       [2.55881334],\n",
       "       [2.55881334],\n",
       "       [3.17069599]])"
      ]
     },
     "execution_count": 307,
     "metadata": {},
     "output_type": "execute_result"
    }
   ],
   "source": [
    "logprediction=LogModel.predict(X_log_test)\n",
    "logprediction"
   ]
  },
  {
   "cell_type": "code",
   "execution_count": 314,
   "id": "6984ef9e",
   "metadata": {},
   "outputs": [
    {
     "data": {
      "text/plain": [
       "array([[ 0.12617355],\n",
       "       [ 0.03605053],\n",
       "       [-0.14120469],\n",
       "       [-0.04387635],\n",
       "       [ 0.28589527]])"
      ]
     },
     "execution_count": 314,
     "metadata": {},
     "output_type": "execute_result"
    }
   ],
   "source": [
    "#Residual\n",
    "Residual=logprediction-y_log_test\n",
    "Residual"
   ]
  },
  {
   "cell_type": "code",
   "execution_count": 315,
   "id": "8498e53c",
   "metadata": {},
   "outputs": [
    {
     "data": {
      "text/plain": [
       "<AxesSubplot:>"
      ]
     },
     "execution_count": 315,
     "metadata": {},
     "output_type": "execute_result"
    },
    {
     "data": {
      "image/png": "[encoded data removed]",
      "text/plain": [
       "<Figure size 432x288 with 1 Axes>"
      ]
     },
     "metadata": {
      "needs_background": "light"
     },
     "output_type": "display_data"
    }
   ],
   "source": [
    "sns.regplot(x=y_log_test, y=logprediction)"
   ]
  },
  {
   "cell_type": "markdown",
   "id": "3dedde33",
   "metadata": {},
   "source": [
    "## Log Transformation Model Score"
   ]
  },
  {
   "cell_type": "code",
   "execution_count": 352,
   "id": "f5aac5ef",
   "metadata": {},
   "outputs": [
    {
     "name": "stdout",
     "output_type": "stream",
     "text": [
      "Rsqauared Value or the Accuracy of the modeel is: 80 %\n"
     ]
    }
   ],
   "source": [
    "accuracy=LogModel.score(X_log_train,y_log_train)\n",
    "print(\"Rsqauared Value or the Accuracy of the modeel is:\", int(accuracy*100),'%')"
   ]
  },
  {
   "cell_type": "code",
   "execution_count": 357,
   "id": "f51dea5c",
   "metadata": {},
   "outputs": [
    {
     "name": "stdout",
     "output_type": "stream",
     "text": [
      "MAE:  0.12664007828058726\n",
      "MSE:  0.024163882173605034\n",
      "RMSE: 0.15544736142374702\n"
     ]
    }
   ],
   "source": [
    "print('MAE: ', metrics.mean_absolute_error(y_log_test,logprediction))\n",
    "print('MSE: ', metrics.mean_squared_error(y_log_test,logprediction))\n",
    "print('RMSE:',np.sqrt(metrics.mean_squared_error(y_log_test,logprediction)))"
   ]
  },
  {
   "cell_type": "markdown",
   "id": "b9d82153",
   "metadata": {},
   "source": [
    "### Fitting a linear Regression model with Square Root  Data Transformation"
   ]
  },
  {
   "cell_type": "code",
   "execution_count": 319,
   "id": "3c0fc247",
   "metadata": {},
   "outputs": [],
   "source": [
    "X_sqrt=np.sqrt(df['SortingTime']).values.reshape(-1,1)\n",
    "y_sqrt=np.sqrt(df['DeliveryTime']).values.reshape(-1,1)"
   ]
  },
  {
   "cell_type": "code",
   "execution_count": 321,
   "id": "cbf50ba0",
   "metadata": {},
   "outputs": [],
   "source": [
    "#split data\n",
    "\n",
    "X_sqrt_train,X_sqrt_test, y_sqrt_train, y_sqrt_test=train_test_split(X_sqrt,y_sqrt,test_size=0.2, random_state=42)\n",
    "SqrtModel=LinearRegression()"
   ]
  },
  {
   "cell_type": "code",
   "execution_count": 322,
   "id": "1ca23e43",
   "metadata": {},
   "outputs": [
    {
     "data": {
      "text/plain": [
       "LinearRegression()"
      ]
     },
     "execution_count": 322,
     "metadata": {},
     "output_type": "execute_result"
    }
   ],
   "source": [
    "SqrtModel.fit(X_sqrt_train,y_sqrt_train)"
   ]
  },
  {
   "cell_type": "markdown",
   "id": "f6deaaf3",
   "metadata": {},
   "source": [
    "## Square Root Transformation data Model Score"
   ]
  },
  {
   "cell_type": "code",
   "execution_count": 349,
   "id": "1460e6d0",
   "metadata": {},
   "outputs": [
    {
     "name": "stdout",
     "output_type": "stream",
     "text": [
      "Rquared value or the Accuracy of the Square Root Model is: 78 %\n",
      "\n",
      "MAE: 0.30454921921833006\n",
      "MSE: 0.1457108545227353\n",
      "RMSE 0.38172091182267615\n"
     ]
    }
   ],
   "source": [
    "SqrtPredictions=SqrtModel.predict(X_sqrt_test)\n",
    "r=SqrtModel.score(X_sqrt_train,y_sqrt_train)\n",
    "r\n",
    "print(\"Rquared value or the Accuracy of the Square Root Model is:\", int(r*100) ,'%\\n')\n",
    "\n",
    "print('MAE:', metrics.mean_absolute_error(y_sqrt_test,SqrtPredictions))\n",
    "print('MSE:', metrics.mean_squared_error(y_sqrt_test,SqrtPredictions))\n",
    "print('RMSE', np.sqrt(metrics.mean_squared_error(y_sqrt_test,SqrtPredictions)))"
   ]
  },
  {
   "cell_type": "markdown",
   "id": "df179db8",
   "metadata": {},
   "source": [
    "## Conclusion\n",
    "\n",
    " **The best model among the all three models is Logarithmic Transformation Data Model i.e LogModel, we have got minimum error with 80% Accuracy.**\n",
    "\n",
    "**Rsqauared Value or the Accuracy of the model is: 80 %**\n",
    "\n",
    "**MAE:  0.12664007828058726**\n",
    "\n",
    "**MSE:  0.024163882173605034**\n",
    "\n",
    "**RMSE: 0.15544736142374702**\n",
    " "
   ]
  }
 ],
 "metadata": {
  "kernelspec": {
   "display_name": "Python 3 (ipykernel)",
   "language": "python",
   "name": "python3"
  },
  "language_info": {
   "codemirror_mode": {
    "name": "ipython",
    "version": 3
   },
   "file_extension": ".py",
   "mimetype": "text/x-python",
   "name": "python",
   "nbconvert_exporter": "python",
   "pygments_lexer": "ipython3",
   "version": "3.9.12"
  }
 },
 "nbformat": 4,
 "nbformat_minor": 5
}
