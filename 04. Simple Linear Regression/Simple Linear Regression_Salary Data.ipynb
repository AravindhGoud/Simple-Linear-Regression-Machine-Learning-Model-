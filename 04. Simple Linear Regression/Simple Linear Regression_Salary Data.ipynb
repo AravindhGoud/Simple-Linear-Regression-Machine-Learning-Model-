{
 "cells": [
  {
   "cell_type": "markdown",
   "id": "5fbc3a42",
   "metadata": {},
   "source": [
    "## Building a Simple Linear Regression model to Predict Salary based on experience\n"
   ]
  },
  {
   "cell_type": "markdown",
   "id": "22c4c83d",
   "metadata": {},
   "source": [
    "### Importing Essential Libraries "
   ]
  },
  {
   "cell_type": "code",
   "execution_count": 54,
   "id": "69a1fcbb",
   "metadata": {},
   "outputs": [],
   "source": [
    "import pandas as pd\n",
    "import numpy as np\n",
    "import seaborn as sns\n",
    "import matplotlib.pyplot as plt"
   ]
  },
  {
   "cell_type": "markdown",
   "id": "336e948c",
   "metadata": {},
   "source": [
    "## Reading the Data"
   ]
  },
  {
   "cell_type": "code",
   "execution_count": 55,
   "id": "bd4b7b58",
   "metadata": {},
   "outputs": [],
   "source": [
    "sal_data=pd.read_csv(r\"C:\\Users\\aravi\\OneDrive\\Desktop\\ExcelR Assignments\\04. Simple Linear Regression\\Salary_Data.csv\")"
   ]
  },
  {
   "cell_type": "code",
   "execution_count": 56,
   "id": "e4c8f427",
   "metadata": {},
   "outputs": [
    {
     "data": {
      "text/plain": [
       "Index(['YearsExperience', 'Salary'], dtype='object')"
      ]
     },
     "execution_count": 56,
     "metadata": {},
     "output_type": "execute_result"
    }
   ],
   "source": [
    "sal_data.columns"
   ]
  },
  {
   "cell_type": "markdown",
   "id": "7e73c187",
   "metadata": {},
   "source": [
    "## Checkout the Data & Missing Values"
   ]
  },
  {
   "cell_type": "code",
   "execution_count": 57,
   "id": "b40a6c99",
   "metadata": {},
   "outputs": [
    {
     "data": {
      "text/plain": [
       "YearsExperience    0\n",
       "Salary             0\n",
       "dtype: int64"
      ]
     },
     "execution_count": 57,
     "metadata": {},
     "output_type": "execute_result"
    }
   ],
   "source": [
    "#Check for Null Values\n",
    "sal_data.isna().sum()"
   ]
  },
  {
   "cell_type": "code",
   "execution_count": 58,
   "id": "fa941cda",
   "metadata": {},
   "outputs": [
    {
     "data": {
      "text/html": [
       "<div>\n",
       "<style scoped>\n",
       "    .dataframe tbody tr th:only-of-type {\n",
       "        vertical-align: middle;\n",
       "    }\n",
       "\n",
       "    .dataframe tbody tr th {\n",
       "        vertical-align: top;\n",
       "    }\n",
       "\n",
       "    .dataframe thead th {\n",
       "        text-align: right;\n",
       "    }\n",
       "</style>\n",
       "<table border=\"1\" class=\"dataframe\">\n",
       "  <thead>\n",
       "    <tr style=\"text-align: right;\">\n",
       "      <th></th>\n",
       "      <th>YearsExperience</th>\n",
       "      <th>Salary</th>\n",
       "    </tr>\n",
       "  </thead>\n",
       "  <tbody>\n",
       "    <tr>\n",
       "      <th>0</th>\n",
       "      <td>1.1</td>\n",
       "      <td>39343.0</td>\n",
       "    </tr>\n",
       "    <tr>\n",
       "      <th>1</th>\n",
       "      <td>1.3</td>\n",
       "      <td>46205.0</td>\n",
       "    </tr>\n",
       "    <tr>\n",
       "      <th>2</th>\n",
       "      <td>1.5</td>\n",
       "      <td>37731.0</td>\n",
       "    </tr>\n",
       "    <tr>\n",
       "      <th>3</th>\n",
       "      <td>2.0</td>\n",
       "      <td>43525.0</td>\n",
       "    </tr>\n",
       "    <tr>\n",
       "      <th>4</th>\n",
       "      <td>2.2</td>\n",
       "      <td>39891.0</td>\n",
       "    </tr>\n",
       "  </tbody>\n",
       "</table>\n",
       "</div>"
      ],
      "text/plain": [
       "   YearsExperience   Salary\n",
       "0              1.1  39343.0\n",
       "1              1.3  46205.0\n",
       "2              1.5  37731.0\n",
       "3              2.0  43525.0\n",
       "4              2.2  39891.0"
      ]
     },
     "execution_count": 58,
     "metadata": {},
     "output_type": "execute_result"
    }
   ],
   "source": [
    "sal_data.head()"
   ]
  },
  {
   "cell_type": "code",
   "execution_count": 59,
   "id": "a8fff0eb",
   "metadata": {},
   "outputs": [
    {
     "name": "stdout",
     "output_type": "stream",
     "text": [
      "<class 'pandas.core.frame.DataFrame'>\n",
      "RangeIndex: 30 entries, 0 to 29\n",
      "Data columns (total 2 columns):\n",
      " #   Column           Non-Null Count  Dtype  \n",
      "---  ------           --------------  -----  \n",
      " 0   YearsExperience  30 non-null     float64\n",
      " 1   Salary           30 non-null     float64\n",
      "dtypes: float64(2)\n",
      "memory usage: 608.0 bytes\n"
     ]
    }
   ],
   "source": [
    "sal_data.info()"
   ]
  },
  {
   "cell_type": "code",
   "execution_count": 60,
   "id": "6c1f7092",
   "metadata": {},
   "outputs": [
    {
     "data": {
      "text/html": [
       "<div>\n",
       "<style scoped>\n",
       "    .dataframe tbody tr th:only-of-type {\n",
       "        vertical-align: middle;\n",
       "    }\n",
       "\n",
       "    .dataframe tbody tr th {\n",
       "        vertical-align: top;\n",
       "    }\n",
       "\n",
       "    .dataframe thead th {\n",
       "        text-align: right;\n",
       "    }\n",
       "</style>\n",
       "<table border=\"1\" class=\"dataframe\">\n",
       "  <thead>\n",
       "    <tr style=\"text-align: right;\">\n",
       "      <th></th>\n",
       "      <th>YearsExperience</th>\n",
       "      <th>Salary</th>\n",
       "    </tr>\n",
       "  </thead>\n",
       "  <tbody>\n",
       "    <tr>\n",
       "      <th>count</th>\n",
       "      <td>30.000000</td>\n",
       "      <td>30.000000</td>\n",
       "    </tr>\n",
       "    <tr>\n",
       "      <th>mean</th>\n",
       "      <td>5.313333</td>\n",
       "      <td>76003.000000</td>\n",
       "    </tr>\n",
       "    <tr>\n",
       "      <th>std</th>\n",
       "      <td>2.837888</td>\n",
       "      <td>27414.429785</td>\n",
       "    </tr>\n",
       "    <tr>\n",
       "      <th>min</th>\n",
       "      <td>1.100000</td>\n",
       "      <td>37731.000000</td>\n",
       "    </tr>\n",
       "    <tr>\n",
       "      <th>25%</th>\n",
       "      <td>3.200000</td>\n",
       "      <td>56720.750000</td>\n",
       "    </tr>\n",
       "    <tr>\n",
       "      <th>50%</th>\n",
       "      <td>4.700000</td>\n",
       "      <td>65237.000000</td>\n",
       "    </tr>\n",
       "    <tr>\n",
       "      <th>75%</th>\n",
       "      <td>7.700000</td>\n",
       "      <td>100544.750000</td>\n",
       "    </tr>\n",
       "    <tr>\n",
       "      <th>max</th>\n",
       "      <td>10.500000</td>\n",
       "      <td>122391.000000</td>\n",
       "    </tr>\n",
       "  </tbody>\n",
       "</table>\n",
       "</div>"
      ],
      "text/plain": [
       "       YearsExperience         Salary\n",
       "count        30.000000      30.000000\n",
       "mean          5.313333   76003.000000\n",
       "std           2.837888   27414.429785\n",
       "min           1.100000   37731.000000\n",
       "25%           3.200000   56720.750000\n",
       "50%           4.700000   65237.000000\n",
       "75%           7.700000  100544.750000\n",
       "max          10.500000  122391.000000"
      ]
     },
     "execution_count": 60,
     "metadata": {},
     "output_type": "execute_result"
    }
   ],
   "source": [
    "sal_data.describe()"
   ]
  },
  {
   "cell_type": "markdown",
   "id": "d865b94e",
   "metadata": {},
   "source": [
    "# Exploratory Data Analysis\n",
    "**Let's explore the data**\n",
    "\n"
   ]
  },
  {
   "cell_type": "code",
   "execution_count": 61,
   "id": "6acf43db",
   "metadata": {},
   "outputs": [
    {
     "data": {
      "text/plain": [
       "<seaborn.axisgrid.PairGrid at 0x2112c11c8b0>"
      ]
     },
     "execution_count": 61,
     "metadata": {},
     "output_type": "execute_result"
    },
    {
     "data": {
      "image/png": "[encoded data removed]",
      "text/plain": [
       "<Figure size 360x360 with 6 Axes>"
      ]
     },
     "metadata": {
      "needs_background": "light"
     },
     "output_type": "display_data"
    }
   ],
   "source": [
    "#Plotting Data on PairPlot to Check Linearity \n",
    "sns.pairplot(sal_data)"
   ]
  },
  {
   "cell_type": "code",
   "execution_count": 62,
   "id": "7bbd3f78",
   "metadata": {},
   "outputs": [
    {
     "name": "stderr",
     "output_type": "stream",
     "text": [
      "C:\\Users\\aravi\\Anaconda3\\lib\\site-packages\\seaborn\\distributions.py:2619: FutureWarning: `distplot` is a deprecated function and will be removed in a future version. Please adapt your code to use either `displot` (a figure-level function with similar flexibility) or `histplot` (an axes-level function for histograms).\n",
      "  warnings.warn(msg, FutureWarning)\n"
     ]
    },
    {
     "data": {
      "text/plain": [
       "<AxesSubplot:xlabel='Salary', ylabel='Density'>"
      ]
     },
     "execution_count": 62,
     "metadata": {},
     "output_type": "execute_result"
    },
    {
     "data": {
      "image/png": "[encoded data removed]",
      "text/plain": [
       "<Figure size 432x288 with 1 Axes>"
      ]
     },
     "metadata": {
      "needs_background": "light"
     },
     "output_type": "display_data"
    }
   ],
   "source": [
    "#Plotting Distribution plot of Salary Column\n",
    "sns.distplot(sal_data['Salary'])"
   ]
  },
  {
   "cell_type": "code",
   "execution_count": 63,
   "id": "b8635efa",
   "metadata": {},
   "outputs": [
    {
     "data": {
      "text/plain": [
       "<seaborn.axisgrid.JointGrid at 0x2112c0c3fa0>"
      ]
     },
     "execution_count": 63,
     "metadata": {},
     "output_type": "execute_result"
    },
    {
     "data": {
      "image/png": "[encoded data removed]",
      "text/plain": [
       "<Figure size 432x432 with 3 Axes>"
      ]
     },
     "metadata": {
      "needs_background": "light"
     },
     "output_type": "display_data"
    }
   ],
   "source": [
    "sns.jointplot(x='YearsExperience',y='Salary',data=sal_data)"
   ]
  },
  {
   "cell_type": "markdown",
   "id": "3813db21",
   "metadata": {},
   "source": [
    "\n",
    "**Creating linear model plot (using seaborn's lmplot) of  Years of Experience vs. Salary.**"
   ]
  },
  {
   "cell_type": "code",
   "execution_count": 64,
   "id": "a5559b86",
   "metadata": {},
   "outputs": [
    {
     "data": {
      "text/plain": [
       "<seaborn.axisgrid.FacetGrid at 0x2112c0c3f70>"
      ]
     },
     "execution_count": 64,
     "metadata": {},
     "output_type": "execute_result"
    },
    {
     "data": {
      "image/png": "[encoded data removed]",
      "text/plain": [
       "<Figure size 360x360 with 1 Axes>"
      ]
     },
     "metadata": {
      "needs_background": "light"
     },
     "output_type": "display_data"
    }
   ],
   "source": [
    "sns.lmplot(x='YearsExperience', y='Salary', data=sal_data)"
   ]
  },
  {
   "cell_type": "code",
   "execution_count": 65,
   "id": "3872f853",
   "metadata": {},
   "outputs": [
    {
     "data": {
      "text/html": [
       "<div>\n",
       "<style scoped>\n",
       "    .dataframe tbody tr th:only-of-type {\n",
       "        vertical-align: middle;\n",
       "    }\n",
       "\n",
       "    .dataframe tbody tr th {\n",
       "        vertical-align: top;\n",
       "    }\n",
       "\n",
       "    .dataframe thead th {\n",
       "        text-align: right;\n",
       "    }\n",
       "</style>\n",
       "<table border=\"1\" class=\"dataframe\">\n",
       "  <thead>\n",
       "    <tr style=\"text-align: right;\">\n",
       "      <th></th>\n",
       "      <th>YearsExperience</th>\n",
       "      <th>Salary</th>\n",
       "    </tr>\n",
       "  </thead>\n",
       "  <tbody>\n",
       "    <tr>\n",
       "      <th>YearsExperience</th>\n",
       "      <td>1.000000</td>\n",
       "      <td>0.978242</td>\n",
       "    </tr>\n",
       "    <tr>\n",
       "      <th>Salary</th>\n",
       "      <td>0.978242</td>\n",
       "      <td>1.000000</td>\n",
       "    </tr>\n",
       "  </tbody>\n",
       "</table>\n",
       "</div>"
      ],
      "text/plain": [
       "                 YearsExperience    Salary\n",
       "YearsExperience         1.000000  0.978242\n",
       "Salary                  0.978242  1.000000"
      ]
     },
     "execution_count": 65,
     "metadata": {},
     "output_type": "execute_result"
    }
   ],
   "source": [
    "sal_data.corr()"
   ]
  },
  {
   "cell_type": "markdown",
   "id": "7630aad3",
   "metadata": {},
   "source": [
    "### Q-Q (Quatile-Quantile) plot Representaion to check the normality of the data"
   ]
  },
  {
   "cell_type": "code",
   "execution_count": 66,
   "id": "65d13558",
   "metadata": {},
   "outputs": [
    {
     "data": {
      "image/png": "[encoded data removed]",
      "text/plain": [
       "<Figure size 432x288 with 1 Axes>"
      ]
     },
     "metadata": {
      "needs_background": "light"
     },
     "output_type": "display_data"
    },
    {
     "name": "stdout",
     "output_type": "stream",
     "text": [
      " We can observe that the data points are around the regression line, line touching few of the points\n"
     ]
    }
   ],
   "source": [
    "## Q-Q plot\n",
    "import statsmodels.api as sm\n",
    "import pylab as py\n",
    "\n",
    "sm.qqplot(sal_data['Salary'], line='r')\n",
    "py.show()\n",
    "\n",
    "print(\" We can observe that the data points are around the regression line, line touching few of the points\")"
   ]
  },
  {
   "cell_type": "markdown",
   "id": "a2f45d5c",
   "metadata": {},
   "source": [
    "### Logarithmic Transformation "
   ]
  },
  {
   "cell_type": "code",
   "execution_count": 204,
   "id": "456a6abe",
   "metadata": {},
   "outputs": [
    {
     "data": {
      "text/plain": [
       "0    10.580073\n",
       "1    10.740843\n",
       "2    10.538237\n",
       "3    10.681091\n",
       "4    10.593906\n",
       "Name: Salary_log, dtype: float64"
      ]
     },
     "execution_count": 204,
     "metadata": {},
     "output_type": "execute_result"
    }
   ],
   "source": [
    "import numpy as np\n",
    "sal_data['Salary_log']=np.log(sal_data['Salary'])\n",
    "sal_data['Salary_log'].head()"
   ]
  },
  {
   "cell_type": "code",
   "execution_count": 68,
   "id": "a7fb0cb0",
   "metadata": {},
   "outputs": [
    {
     "name": "stdout",
     "output_type": "stream",
     "text": [
      "\n",
      " \u001b[1m Q-Q Plot of Logarithmic Transformation data of Salary \u001b[0m\n"
     ]
    },
    {
     "data": {
      "image/png": "[encoded data removed]",
      "text/plain": [
       "<Figure size 432x288 with 1 Axes>"
      ]
     },
     "execution_count": 68,
     "metadata": {},
     "output_type": "execute_result"
    },
    {
     "data": {
      "image/png": "[encoded data removed]",
      "text/plain": [
       "<Figure size 432x288 with 1 Axes>"
      ]
     },
     "metadata": {
      "needs_background": "light"
     },
     "output_type": "display_data"
    }
   ],
   "source": [
    "## plotting Q-Q plot after logarithmic transformation of data\n",
    "import statsmodels.api as qp\n",
    "print('\\n','\\033[1m',\"Q-Q Plot of Logarithmic Transformation data of Salary\",'\\033[0m')\n",
    "qp.qqplot(sal_data['Salary_log'], line='r')"
   ]
  },
  {
   "cell_type": "markdown",
   "id": "61078219",
   "metadata": {},
   "source": [
    "## Square Root Transformation"
   ]
  },
  {
   "cell_type": "code",
   "execution_count": 69,
   "id": "9ec61071",
   "metadata": {},
   "outputs": [
    {
     "data": {
      "text/plain": [
       "0     198.350700\n",
       "1     214.953483\n",
       "2     194.244691\n",
       "3     208.626460\n",
       "4     199.727314\n",
       "5     237.995798\n",
       "6     245.254969\n",
       "7     233.334524\n",
       "8     253.860198\n",
       "9     239.142217\n",
       "10    251.431899\n",
       "11    236.207536\n",
       "12    238.656657\n",
       "13    238.916303\n",
       "14    247.206392\n",
       "15    260.649190\n",
       "16    256.961087\n",
       "17    288.249892\n",
       "18    285.242003\n",
       "19    306.496330\n",
       "20    302.882816\n",
       "21    313.485247\n",
       "22    318.279751\n",
       "23    337.360341\n",
       "24    330.803567\n",
       "25    324.933839\n",
       "26    342.007310\n",
       "27    335.611382\n",
       "28    349.844251\n",
       "29    349.101704\n",
       "Name: Salary_Square, dtype: float64"
      ]
     },
     "execution_count": 69,
     "metadata": {},
     "output_type": "execute_result"
    }
   ],
   "source": [
    "##Square Root Transformation\n",
    "sal_data['Salary_Square']=sal_data.Salary**(1/2)\n",
    "sal_data['Salary_Square']"
   ]
  },
  {
   "cell_type": "code",
   "execution_count": 70,
   "id": "02cac1ff",
   "metadata": {},
   "outputs": [
    {
     "data": {
      "image/png": "[encoded data removed]",
      "text/plain": [
       "<Figure size 432x288 with 1 Axes>"
      ]
     },
     "execution_count": 70,
     "metadata": {},
     "output_type": "execute_result"
    },
    {
     "data": {
      "image/png": "[encoded data removed]",
      "text/plain": [
       "<Figure size 432x288 with 1 Axes>"
      ]
     },
     "metadata": {
      "needs_background": "light"
     },
     "output_type": "display_data"
    }
   ],
   "source": [
    "sm.qqplot(sal_data['Salary_Square'], line='r')"
   ]
  },
  {
   "cell_type": "markdown",
   "id": "d4c1177d",
   "metadata": {},
   "source": [
    "**From above three Q-Q plots we can observe that the three plots looks similar to each other hence here we cannot take a single data to build the model.**\n",
    "\n",
    "**I will build model using the given data set & using log transformation data & Square Root transformation data to get the best optimal model to predict the salary with more accuracy**"
   ]
  },
  {
   "cell_type": "markdown",
   "id": "69b3d48e",
   "metadata": {},
   "source": [
    "## Splitting data for Model Training and Testing\n",
    "**Split Data for X and y variables**"
   ]
  },
  {
   "cell_type": "code",
   "execution_count": 71,
   "id": "6a8f8f88",
   "metadata": {},
   "outputs": [
    {
     "name": "stdout",
     "output_type": "stream",
     "text": [
      "   YearsExperience\n",
      "0              1.1\n",
      "1              1.3\n",
      "2              1.5\n",
      "3              2.0\n",
      "4              2.2\n",
      "    Salary\n",
      "0  39343.0\n",
      "1  46205.0\n",
      "2  37731.0\n",
      "3  43525.0\n",
      "4  39891.0\n"
     ]
    }
   ],
   "source": [
    "X=sal_data.iloc[: ,0:1]\n",
    "y=sal_data.iloc[:, 1:2]\n",
    "print(X.head())\n",
    "print(y.head())"
   ]
  },
  {
   "cell_type": "code",
   "execution_count": 72,
   "id": "7008853c",
   "metadata": {},
   "outputs": [
    {
     "name": "stdout",
     "output_type": "stream",
     "text": [
      "<class 'pandas.core.frame.DataFrame'>\n",
      "Int64Index: 21 entries, 0 to 6\n",
      "Data columns (total 1 columns):\n",
      " #   Column           Non-Null Count  Dtype  \n",
      "---  ------           --------------  -----  \n",
      " 0   YearsExperience  21 non-null     float64\n",
      "dtypes: float64(1)\n",
      "memory usage: 336.0 bytes\n",
      "None\n",
      "<class 'pandas.core.frame.DataFrame'>\n",
      "Int64Index: 21 entries, 0 to 6\n",
      "Data columns (total 1 columns):\n",
      " #   Column  Non-Null Count  Dtype  \n",
      "---  ------  --------------  -----  \n",
      " 0   Salary  21 non-null     float64\n",
      "dtypes: float64(1)\n",
      "memory usage: 336.0 bytes\n"
     ]
    }
   ],
   "source": [
    "from sklearn.model_selection import train_test_split\n",
    "X_train, X_test, y_train, y_test=train_test_split(X,y, test_size=0.3)\n",
    "print(X_train.info())\n",
    "y_train.info()"
   ]
  },
  {
   "cell_type": "markdown",
   "id": "75601084",
   "metadata": {},
   "source": [
    "## Fitting a Linear Regression Model to Predict Salary Hike without any Transformation"
   ]
  },
  {
   "cell_type": "code",
   "execution_count": 73,
   "id": "1a9ebb67",
   "metadata": {},
   "outputs": [],
   "source": [
    "from sklearn.linear_model import LinearRegression"
   ]
  },
  {
   "cell_type": "code",
   "execution_count": 74,
   "id": "c0eee66d",
   "metadata": {},
   "outputs": [],
   "source": [
    "model = LinearRegression()"
   ]
  },
  {
   "cell_type": "code",
   "execution_count": 75,
   "id": "fed13d6a",
   "metadata": {},
   "outputs": [
    {
     "data": {
      "text/plain": [
       "LinearRegression()"
      ]
     },
     "execution_count": 75,
     "metadata": {},
     "output_type": "execute_result"
    }
   ],
   "source": [
    "model.fit(X_train,y_train)"
   ]
  },
  {
   "cell_type": "code",
   "execution_count": 76,
   "id": "b20fb10a",
   "metadata": {},
   "outputs": [
    {
     "data": {
      "text/plain": [
       "array([25151.81846773])"
      ]
     },
     "execution_count": 76,
     "metadata": {},
     "output_type": "execute_result"
    }
   ],
   "source": [
    "model.intercept_"
   ]
  },
  {
   "cell_type": "code",
   "execution_count": 77,
   "id": "78ebf03b",
   "metadata": {},
   "outputs": [
    {
     "data": {
      "text/plain": [
       "array([[9634.58193471]])"
      ]
     },
     "execution_count": 77,
     "metadata": {},
     "output_type": "execute_result"
    }
   ],
   "source": [
    "model.coef_"
   ]
  },
  {
   "cell_type": "markdown",
   "id": "a6757bd7",
   "metadata": {},
   "source": [
    "# Model Predictions"
   ]
  },
  {
   "cell_type": "code",
   "execution_count": 78,
   "id": "0b436147",
   "metadata": {},
   "outputs": [],
   "source": [
    "predictions=model.predict(X_test)"
   ]
  },
  {
   "cell_type": "code",
   "execution_count": 79,
   "id": "1e63a6d0",
   "metadata": {},
   "outputs": [
    {
     "data": {
      "text/plain": [
       "Text(0, 0.5, 'y predicted')"
      ]
     },
     "execution_count": 79,
     "metadata": {},
     "output_type": "execute_result"
    },
    {
     "data": {
      "image/png": "[encoded data removed]",
      "text/plain": [
       "<Figure size 432x288 with 1 Axes>"
      ]
     },
     "metadata": {
      "needs_background": "light"
     },
     "output_type": "display_data"
    }
   ],
   "source": [
    "plt.scatter(y_test,predictions)\n",
    "plt.xlabel('y_test')\n",
    "plt.ylabel('y predicted')"
   ]
  },
  {
   "cell_type": "code",
   "execution_count": 80,
   "id": "06d891ba",
   "metadata": {},
   "outputs": [
    {
     "name": "stderr",
     "output_type": "stream",
     "text": [
      "C:\\Users\\aravi\\Anaconda3\\lib\\site-packages\\seaborn\\distributions.py:2619: FutureWarning: `distplot` is a deprecated function and will be removed in a future version. Please adapt your code to use either `displot` (a figure-level function with similar flexibility) or `histplot` (an axes-level function for histograms).\n",
      "  warnings.warn(msg, FutureWarning)\n"
     ]
    },
    {
     "data": {
      "text/plain": [
       "<AxesSubplot:ylabel='Density'>"
      ]
     },
     "execution_count": 80,
     "metadata": {},
     "output_type": "execute_result"
    },
    {
     "data": {
      "image/png": "[encoded data removed]",
      "text/plain": [
       "<Figure size 432x288 with 1 Axes>"
      ]
     },
     "metadata": {
      "needs_background": "light"
     },
     "output_type": "display_data"
    }
   ],
   "source": [
    "# Residual Histogram\n",
    "sns.distplot((y_test-predictions))"
   ]
  },
  {
   "cell_type": "markdown",
   "id": "d8954523",
   "metadata": {},
   "source": [
    "## Regression Evaluation Metrics\n",
    "\n",
    "**Here are the three evaluation metrics for regression problems**\n",
    "\n",
    "**Mean Absolute Error (MAE)**\n",
    "\n",
    "**Mean Squared Error(MSE)** \n",
    "\n",
    "**Root Mean Squared Error(RMSE)**\n",
    "\n",
    "**RSquare Value(Coefficient of Determination)**"
   ]
  },
  {
   "cell_type": "code",
   "execution_count": 81,
   "id": "6b4c05a7",
   "metadata": {},
   "outputs": [],
   "source": [
    "from sklearn import metrics"
   ]
  },
  {
   "cell_type": "code",
   "execution_count": 82,
   "id": "194375b4",
   "metadata": {},
   "outputs": [
    {
     "name": "stdout",
     "output_type": "stream",
     "text": [
      "MAE: 3515.533681124852\n",
      "MSE: 17164488.96420073\n",
      "RMSE: 4143.004823096484\n"
     ]
    }
   ],
   "source": [
    "print('MAE:', metrics.mean_absolute_error(y_test, predictions))\n",
    "print('MSE:', metrics.mean_squared_error(y_test, predictions))\n",
    "print('RMSE:', np.sqrt(metrics.mean_squared_error(y_test, predictions)))"
   ]
  },
  {
   "cell_type": "code",
   "execution_count": 183,
   "id": "f72c54f3",
   "metadata": {},
   "outputs": [
    {
     "data": {
      "text/plain": [
       "0.955850114915764"
      ]
     },
     "execution_count": 183,
     "metadata": {},
     "output_type": "execute_result"
    }
   ],
   "source": [
    "#Rsquare Value\n",
    "Rsquare_value=model.score(X_train, y_train)\n",
    "Rsquare_value"
   ]
  },
  {
   "cell_type": "markdown",
   "id": "309fe516",
   "metadata": {},
   "source": [
    "### Logarithmic Transformation"
   ]
  },
  {
   "cell_type": "code",
   "execution_count": 129,
   "id": "e18b0423",
   "metadata": {},
   "outputs": [
    {
     "name": "stdout",
     "output_type": "stream",
     "text": [
      "[[10.58007335]\n",
      " [10.7408433 ]\n",
      " [10.53823732]\n",
      " [10.68109076]\n",
      " [10.59390601]\n",
      " [10.94450604]\n",
      " [11.00459672]\n",
      " [10.9049463 ]\n",
      " [11.07356743]\n",
      " [10.95411685]\n",
      " [11.05434435]\n",
      " [10.92942162]\n",
      " [10.95005188]\n",
      " [10.95222659]\n",
      " [11.02044716]\n",
      " [11.1263508 ]\n",
      " [11.09784932]\n",
      " [11.32765557]\n",
      " [11.3066759 ]\n",
      " [11.45041156]\n",
      " [11.42669197]\n",
      " [11.4955046 ]\n",
      " [11.52586143]\n",
      " [11.64230324]\n",
      " [11.60304949]\n",
      " [11.56724318]\n",
      " [11.66966422]\n",
      " [11.63190778]\n",
      " [11.71497612]\n",
      " [11.71072659]]\n",
      "[[0.09531018]\n",
      " [0.26236426]\n",
      " [0.40546511]\n",
      " [0.69314718]\n",
      " [0.78845736]\n",
      " [1.06471074]\n",
      " [1.09861229]\n",
      " [1.16315081]\n",
      " [1.16315081]\n",
      " [1.30833282]\n",
      " [1.36097655]\n",
      " [1.38629436]\n",
      " [1.38629436]\n",
      " [1.41098697]\n",
      " [1.5040774 ]\n",
      " [1.58923521]\n",
      " [1.62924054]\n",
      " [1.66770682]\n",
      " [1.77495235]\n",
      " [1.79175947]\n",
      " [1.91692261]\n",
      " [1.96009478]\n",
      " [2.06686276]\n",
      " [2.10413415]\n",
      " [2.16332303]\n",
      " [2.19722458]\n",
      " [2.2512918 ]\n",
      " [2.2617631 ]\n",
      " [2.3321439 ]\n",
      " [2.35137526]]\n"
     ]
    }
   ],
   "source": [
    "#Log Transformation\n",
    "\n",
    "Xlog=np.log(sal_data['Salary']).values.reshape(-1,1)\n",
    "ylog=np.log(sal_data['YearsExperience']).values.reshape(-1,1)\n",
    "\n",
    "print(Xlog)\n",
    "print(ylog)"
   ]
  },
  {
   "cell_type": "markdown",
   "id": "28aa5406",
   "metadata": {},
   "source": [
    "## Splitting Log Transformation Data"
   ]
  },
  {
   "cell_type": "code",
   "execution_count": 130,
   "id": "3b97400f",
   "metadata": {},
   "outputs": [],
   "source": [
    "from sklearn.model_selection import train_test_split\n",
    "Xlog_train, Xlog_test, ylog_train, ylog_test=train_test_split(Xlog,ylog, test_size=0.3, random_state=42)"
   ]
  },
  {
   "cell_type": "code",
   "execution_count": 131,
   "id": "e3556700",
   "metadata": {},
   "outputs": [],
   "source": [
    "logmodel=LinearRegression()"
   ]
  },
  {
   "cell_type": "code",
   "execution_count": 132,
   "id": "bdec60a1",
   "metadata": {},
   "outputs": [
    {
     "data": {
      "text/plain": [
       "LinearRegression()"
      ]
     },
     "execution_count": 132,
     "metadata": {},
     "output_type": "execute_result"
    }
   ],
   "source": [
    "logmodel.fit(Xlog_train,ylog_train)"
   ]
  },
  {
   "cell_type": "code",
   "execution_count": 185,
   "id": "e897c185",
   "metadata": {},
   "outputs": [
    {
     "data": {
      "text/plain": [
       "array([[2.27374849],\n",
       "       [1.42579206],\n",
       "       [2.2911845 ],\n",
       "       [1.76343484],\n",
       "       [1.33725999],\n",
       "       [1.13690892],\n",
       "       [2.41307666],\n",
       "       [2.22534529],\n",
       "       [1.13009085]])"
      ]
     },
     "execution_count": 185,
     "metadata": {},
     "output_type": "execute_result"
    }
   ],
   "source": [
    "#Log Data Predictions\n",
    "Ylog_test_predict=logmodel.predict(Xlog_test)\n",
    "Ylog_test_predict"
   ]
  },
  {
   "cell_type": "code",
   "execution_count": 184,
   "id": "d16f6ca7",
   "metadata": {},
   "outputs": [
    {
     "data": {
      "text/plain": [
       "array([[ 0.01198539],\n",
       "       [-0.16344315],\n",
       "       [ 0.18705035],\n",
       "       [ 0.09572802],\n",
       "       [ 0.17410918],\n",
       "       [-0.1714239 ],\n",
       "       [ 0.08093276],\n",
       "       [ 0.06202227],\n",
       "       [-0.25620351]])"
      ]
     },
     "execution_count": 184,
     "metadata": {},
     "output_type": "execute_result"
    }
   ],
   "source": [
    "# Calculating Residual values\n",
    "Residual=Ylog_test_predict-ylog_test\n",
    "Residual"
   ]
  },
  {
   "cell_type": "code",
   "execution_count": 135,
   "id": "eafc714d",
   "metadata": {},
   "outputs": [
    {
     "data": {
      "text/plain": [
       "<matplotlib.collections.PathCollection at 0x211318998e0>"
      ]
     },
     "execution_count": 135,
     "metadata": {},
     "output_type": "execute_result"
    },
    {
     "data": {
      "image/png": "[encoded data removed]",
      "text/plain": [
       "<Figure size 432x288 with 1 Axes>"
      ]
     },
     "metadata": {
      "needs_background": "light"
     },
     "output_type": "display_data"
    }
   ],
   "source": [
    "plt.scatter(ylog_test,Ylog_test_predict)"
   ]
  },
  {
   "cell_type": "code",
   "execution_count": 136,
   "id": "1decacbb",
   "metadata": {},
   "outputs": [
    {
     "name": "stdout",
     "output_type": "stream",
     "text": [
      "MAE: 0.13365539275961147\n",
      "MSE: 0.022971808272358434\n",
      "RMSE: 0.1515645350085515\n"
     ]
    }
   ],
   "source": [
    "print('MAE:', metrics.mean_absolute_error(ylog_test,Ylog_test_predict))\n",
    "print('MSE:', metrics.mean_squared_error(ylog_test,Ylog_test_predict))\n",
    "print('RMSE:', np.sqrt(metrics.mean_squared_error(ylog_test,Ylog_test_predict)))"
   ]
  },
  {
   "cell_type": "code",
   "execution_count": 203,
   "id": "6377ac84",
   "metadata": {},
   "outputs": [
    {
     "name": "stdout",
     "output_type": "stream",
     "text": [
      "Rsquare value or the accuracy of the Log Transformation model is: 89 %\n"
     ]
    }
   ],
   "source": [
    "Rsquare_logmodel=logmodel.score(Xlog_train,ylog_train)\n",
    "print(\"Rsquare value or the accuracy of the Log Transformation model is:\",int(Rsquare_logmodel*100),'%')"
   ]
  },
  {
   "cell_type": "markdown",
   "id": "e79babaa",
   "metadata": {},
   "source": [
    "### Building a model with Square Root Transformation Data"
   ]
  },
  {
   "cell_type": "code",
   "execution_count": 172,
   "id": "23db8a87",
   "metadata": {},
   "outputs": [],
   "source": [
    "##Square Root Transformation\n",
    "import numpy as np\n",
    "X_sqrt=np.sqrt(sal_data['Salary']).values.reshape((-1,1))\n",
    "\n",
    "y_sqrt=np.sqrt(sal_data['YearsExperience']).values.reshape((-1,1))\n",
    "\n",
    "## splitting Data\n",
    "X_sqrt_train, X_sqrt_test, y_sqrt_train, y_sqrt_test = train_test_split(X_sqrt,y_sqrt, test_size=0.30)\n"
   ]
  },
  {
   "cell_type": "code",
   "execution_count": 173,
   "id": "9d0a1d30",
   "metadata": {},
   "outputs": [],
   "source": [
    "SqrtModel=LinearRegression()"
   ]
  },
  {
   "cell_type": "code",
   "execution_count": 174,
   "id": "c2caeb5c",
   "metadata": {},
   "outputs": [
    {
     "data": {
      "text/plain": [
       "LinearRegression()"
      ]
     },
     "execution_count": 174,
     "metadata": {},
     "output_type": "execute_result"
    }
   ],
   "source": [
    "SqrtModel.fit(X_sqrt_train,y_sqrt_train)"
   ]
  },
  {
   "cell_type": "code",
   "execution_count": 193,
   "id": "b17dbfdb",
   "metadata": {},
   "outputs": [
    {
     "data": {
      "text/plain": [
       "0.9343268913050558"
      ]
     },
     "execution_count": 193,
     "metadata": {},
     "output_type": "execute_result"
    }
   ],
   "source": [
    "Rsquare_sqrtmodel=SqrtModel.score(X_sqrt_train, y_sqrt_train)\n",
    "Rsquare_sqrtmodel"
   ]
  },
  {
   "cell_type": "code",
   "execution_count": 176,
   "id": "217f58a2",
   "metadata": {},
   "outputs": [
    {
     "data": {
      "text/plain": [
       "array([[2.7697791 ],\n",
       "       [1.99333788],\n",
       "       [1.82521894],\n",
       "       [2.6371164 ],\n",
       "       [2.02372191],\n",
       "       [2.41638609],\n",
       "       [3.22472039],\n",
       "       [3.21542929],\n",
       "       [2.68233042]])"
      ]
     },
     "execution_count": 176,
     "metadata": {},
     "output_type": "execute_result"
    }
   ],
   "source": [
    "y_predictions=SqrtModel.predict(X_sqrt_test)\n",
    "y_predictions"
   ]
  },
  {
   "cell_type": "code",
   "execution_count": 177,
   "id": "c556b5e5",
   "metadata": {},
   "outputs": [
    {
     "data": {
      "text/plain": [
       "<matplotlib.collections.PathCollection at 0x21133f969a0>"
      ]
     },
     "execution_count": 177,
     "metadata": {},
     "output_type": "execute_result"
    },
    {
     "data": {
      "image/png": "[encoded data removed]",
      "text/plain": [
       "<Figure size 432x288 with 1 Axes>"
      ]
     },
     "metadata": {
      "needs_background": "light"
     },
     "output_type": "display_data"
    }
   ],
   "source": [
    "#Residual\n",
    "plt.scatter(y_sqrt_test,y_predictions)"
   ]
  },
  {
   "cell_type": "code",
   "execution_count": 179,
   "id": "cb4e8a83",
   "metadata": {},
   "outputs": [
    {
     "name": "stdout",
     "output_type": "stream",
     "text": [
      "MAE: 291.9502449860993\n",
      "MSE: 86687.22450389882\n",
      "RMSE: 294.4269425577402\n"
     ]
    }
   ],
   "source": [
    "print('MAE:', metrics.mean_absolute_error(X_sqrt_test,y_predictions))\n",
    "print('MSE:', metrics.mean_squared_error(X_sqrt_test,y_predictions))\n",
    "print('RMSE:', np.sqrt(metrics.mean_squared_error(X_sqrt_test,y_predictions)))"
   ]
  },
  {
   "cell_type": "markdown",
   "id": "b8d29b34",
   "metadata": {},
   "source": [
    "## Choosing the best Regression model with Low Error & best Rsquare Value \n",
    "\n",
    "**Comparing all three models Rsquare value or the Accuracy**"
   ]
  },
  {
   "cell_type": "code",
   "execution_count": 218,
   "id": "2cd11bd3",
   "metadata": {},
   "outputs": [
    {
     "name": "stdout",
     "output_type": "stream",
     "text": [
      "Rsquare Value of the data without Data Transformation is:  0.955850114915764 \n",
      " \n",
      " MAE: 3515.533681124852 \n",
      " MSE: 17164488.96420073 \n",
      " RMSE: 4143.004823096484 \n",
      "\n",
      "Rsquare Value of the data with log Transformation is:  0.8993900428504725 \n",
      "\n",
      " MAE: 0.13365539275961147 \n",
      "MSE: 0.022971808272358434 \n",
      "RMSE: 0.1515645350085515 \n",
      "\n",
      "Rsquare Value of the data without Square Root Transformation is:  0.9343268913050558 \n",
      "\n",
      " MAE: 291.9502449860993 \n",
      " MSE: 86687.22450389882 \n",
      " RMSE: 294.4269425577402\n"
     ]
    }
   ],
   "source": [
    "print('Rsquare Value of the data without Data Transformation is: ', Rsquare_value,'\\n','\\n','MAE: 3515.533681124852','\\n'\n",
    ",'MSE: 17164488.96420073','\\n',\n",
    "'RMSE: 4143.004823096484','\\n')\n",
    "print('Rsquare Value of the data with log Transformation is: ',Rsquare_logmodel,'\\n''\\n','MAE: 0.13365539275961147','\\n'\n",
    "'MSE: 0.022971808272358434','\\n'\n",
    "'RMSE: 0.1515645350085515','\\n')\n",
    "print('Rsquare Value of the data without Square Root Transformation is: ', Rsquare_sqrtmodel,'\\n''\\n', 'MAE: 291.9502449860993','\\n',\n",
    "'MSE: 86687.22450389882','\\n',\n",
    "'RMSE: 294.4269425577402' )"
   ]
  },
  {
   "cell_type": "markdown",
   "id": "49801b20",
   "metadata": {},
   "source": [
    "## Conclusion:\n",
    " **Among the all three models the error value is very minimal for Logarithmic Transformation model so for the given data set I will recommend Logarithmic transformation Prediction model to predict the Salary.**\n",
    " \n",
    "**MAE: 0.13365539275961147**\n",
    "\n",
    "**MSE: 0.022971808272358434**\n",
    "\n",
    "**RMSE: 0.1515645350085515**\n",
    "\n",
    "**Rsquare value or the accuracy of the Log Transformation model is: 89 %**"
   ]
  }
 ],
 "metadata": {
  "kernelspec": {
   "display_name": "Python 3 (ipykernel)",
   "language": "python",
   "name": "python3"
  },
  "language_info": {
   "codemirror_mode": {
    "name": "ipython",
    "version": 3
   },
   "file_extension": ".py",
   "mimetype": "text/x-python",
   "name": "python",
   "nbconvert_exporter": "python",
   "pygments_lexer": "ipython3",
   "version": "3.9.12"
  }
 },
 "nbformat": 4,
 "nbformat_minor": 5
}
